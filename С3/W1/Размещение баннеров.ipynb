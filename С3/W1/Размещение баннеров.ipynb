{
 "cells": [
  {
   "cell_type": "markdown",
   "metadata": {},
   "source": [
    "# Размещение баннеров\n",
    "\n",
    "Представим, что международное круизное агентство Carnival Cruise Line решило себя разрекламировать с помощью баннеров и обратилось для этого к вам. Чтобы протестировать, велика ли от таких баннеров польза, их будет размещено всего 20 штук по всему миру. Вам надо выбрать 20 таких локаций для размещения, чтобы польза была большой и агентство продолжило с вами сотрудничать.\n",
    "\n",
    "Агентство крупное, и у него есть несколько офисов по всему миру. Вблизи этих офисов оно и хочет разместить баннеры — легче договариваться и проверять результат. Также эти места должны быть популярны среди туристов.\n",
    "\n",
    "Для поиска оптимальных мест воспользуемся базой данных крупнейшей социальной сети, основанной на локациях — Foursquare.\n",
    "\n",
    "Часть открытых данных есть, например, на сайте archive.org:\n",
    "\n",
    "https://archive.org/details/201309_foursquare_dataset_umn\n",
    "\n"
   ]
  },
  {
   "cell_type": "code",
   "execution_count": 1,
   "metadata": {},
   "outputs": [],
   "source": [
    "import pandas as pd"
   ]
  },
  {
   "cell_type": "code",
   "execution_count": 2,
   "metadata": {},
   "outputs": [
    {
     "data": {
      "text/html": [
       "<div>\n",
       "<style scoped>\n",
       "    .dataframe tbody tr th:only-of-type {\n",
       "        vertical-align: middle;\n",
       "    }\n",
       "\n",
       "    .dataframe tbody tr th {\n",
       "        vertical-align: top;\n",
       "    }\n",
       "\n",
       "    .dataframe thead th {\n",
       "        text-align: right;\n",
       "    }\n",
       "</style>\n",
       "<table border=\"1\" class=\"dataframe\">\n",
       "  <thead>\n",
       "    <tr style=\"text-align: right;\">\n",
       "      <th></th>\n",
       "      <th>id</th>\n",
       "      <th>user_id</th>\n",
       "      <th>venue_id</th>\n",
       "      <th>latitude</th>\n",
       "      <th>longitude</th>\n",
       "      <th>created_at</th>\n",
       "    </tr>\n",
       "  </thead>\n",
       "  <tbody>\n",
       "    <tr>\n",
       "      <th>0</th>\n",
       "      <td>---------+---------+----------+---------------...</td>\n",
       "      <td>NaN</td>\n",
       "      <td>NaN</td>\n",
       "      <td>NaN</td>\n",
       "      <td>NaN</td>\n",
       "      <td>NaN</td>\n",
       "    </tr>\n",
       "    <tr>\n",
       "      <th>1</th>\n",
       "      <td>984301</td>\n",
       "      <td>2041916.0</td>\n",
       "      <td>5222.0</td>\n",
       "      <td>NaN</td>\n",
       "      <td>NaN</td>\n",
       "      <td>2012-04-21 17:39:01</td>\n",
       "    </tr>\n",
       "    <tr>\n",
       "      <th>2</th>\n",
       "      <td>984222</td>\n",
       "      <td>15824.0</td>\n",
       "      <td>5222.0</td>\n",
       "      <td>38.895112</td>\n",
       "      <td>-77.036366</td>\n",
       "      <td>2012-04-21 17:43:47</td>\n",
       "    </tr>\n",
       "    <tr>\n",
       "      <th>3</th>\n",
       "      <td>984315</td>\n",
       "      <td>1764391.0</td>\n",
       "      <td>5222.0</td>\n",
       "      <td>NaN</td>\n",
       "      <td>NaN</td>\n",
       "      <td>2012-04-21 17:37:18</td>\n",
       "    </tr>\n",
       "    <tr>\n",
       "      <th>4</th>\n",
       "      <td>984234</td>\n",
       "      <td>44652.0</td>\n",
       "      <td>5222.0</td>\n",
       "      <td>33.800745</td>\n",
       "      <td>-84.410520</td>\n",
       "      <td>2012-04-21 17:43:43</td>\n",
       "    </tr>\n",
       "  </tbody>\n",
       "</table>\n",
       "</div>"
      ],
      "text/plain": [
       "                                              id       user_id   venue_id   \\\n",
       "0  ---------+---------+----------+---------------...        NaN        NaN   \n",
       "1                                            984301   2041916.0     5222.0   \n",
       "2                                            984222     15824.0     5222.0   \n",
       "3                                            984315   1764391.0     5222.0   \n",
       "4                                            984234     44652.0     5222.0   \n",
       "\n",
       "   latitude        longitude          created_at        \n",
       "0             NaN             NaN                  NaN  \n",
       "1             NaN             NaN  2012-04-21 17:39:01  \n",
       "2       38.895112      -77.036366  2012-04-21 17:43:47  \n",
       "3             NaN             NaN  2012-04-21 17:37:18  \n",
       "4       33.800745      -84.410520  2012-04-21 17:43:43  "
      ]
     },
     "execution_count": 2,
     "metadata": {},
     "output_type": "execute_result"
    }
   ],
   "source": [
    "checkins = pd.read_csv(\"checkins.dat\", low_memory=False, sep='|', skipinitialspace = True) \n",
    "checkins.head()"
   ]
  },
  {
   "cell_type": "code",
   "execution_count": 3,
   "metadata": {},
   "outputs": [
    {
     "name": "stdout",
     "output_type": "stream",
     "text": [
      "<class 'pandas.core.frame.DataFrame'>\n",
      "RangeIndex: 1021968 entries, 0 to 1021967\n",
      "Data columns (total 2 columns):\n",
      " #   Column     Non-Null Count   Dtype  \n",
      "---  ------     --------------   -----  \n",
      " 0   latitude   396634 non-null  float64\n",
      " 1   longitude  396634 non-null  float64\n",
      "dtypes: float64(2)\n",
      "memory usage: 15.6 MB\n"
     ]
    }
   ],
   "source": [
    "checkins.rename(columns=str.strip, inplace=True) # в оригинальном датасете в именах колонок куча пробелов. Уберем для удобства\n",
    "X=checkins.loc[:,(\"latitude\", \"longitude\")]\n",
    "X.info()"
   ]
  },
  {
   "cell_type": "markdown",
   "metadata": {},
   "source": [
    "Видно, что для существенного числа наблюдений значение не определены. Отбросим их за ненадобностью."
   ]
  },
  {
   "cell_type": "code",
   "execution_count": 4,
   "metadata": {},
   "outputs": [
    {
     "data": {
      "text/plain": [
       "(396634, 2)"
      ]
     },
     "execution_count": 4,
     "metadata": {},
     "output_type": "execute_result"
    }
   ],
   "source": [
    "X.dropna(inplace=True)\n",
    "X.shape"
   ]
  },
  {
   "cell_type": "markdown",
   "metadata": {},
   "source": [
    "Осталось довольно много точек. Перейдем непосредственно к кластеризации."
   ]
  },
  {
   "cell_type": "code",
   "execution_count": 5,
   "metadata": {},
   "outputs": [],
   "source": [
    "from sklearn.cluster import MeanShift\n",
    "import numpy as np\n",
    "clustering = MeanShift(bandwidth=0.1).fit(X)"
   ]
  },
  {
   "cell_type": "code",
   "execution_count": 20,
   "metadata": {},
   "outputs": [
    {
     "data": {
      "text/plain": [
       "(5536, 2)"
      ]
     },
     "execution_count": 20,
     "metadata": {},
     "output_type": "execute_result"
    }
   ],
   "source": [
    "centers=clustering.cluster_centers_\n",
    "centers.shape"
   ]
  },
  {
   "cell_type": "markdown",
   "metadata": {},
   "source": [
    "Удалим кластеры, содержащие менее 15 точек."
   ]
  },
  {
   "cell_type": "code",
   "execution_count": 21,
   "metadata": {},
   "outputs": [
    {
     "data": {
      "text/plain": [
       "(1304, 2)"
      ]
     },
     "execution_count": 21,
     "metadata": {},
     "output_type": "execute_result"
    }
   ],
   "source": [
    "cluster_sizes = np.bincount(clustering.labels_)\n",
    "centers  = centers[cluster_sizes > 15]\n",
    "centers.shape"
   ]
  },
  {
   "cell_type": "markdown",
   "metadata": {},
   "source": [
    "Зафиксируем координаты  офисов."
   ]
  },
  {
   "cell_type": "code",
   "execution_count": 8,
   "metadata": {},
   "outputs": [
    {
     "data": {
      "text/plain": [
       "[('Los Angeles', (33.751277, -118.18874)),\n",
       " ('Miami', (25.867736, -80.324116)),\n",
       " ('London', (51.503016, -0.075479)),\n",
       " ('Amsterdam', (52.378894, 4.885084)),\n",
       " ('Beijing', (39.366487, 117.036146)),\n",
       " ('Sydney', (-33.868457, 151.205134))]"
      ]
     },
     "execution_count": 8,
     "metadata": {},
     "output_type": "execute_result"
    }
   ],
   "source": [
    "\n",
    "ofices =[\n",
    "    (\"Los Angeles\", (33.751277, -118.188740)),\n",
    "    (\"Miami\", (25.867736, -80.324116)),\n",
    "    (\"London\", (51.503016, -0.075479)),\n",
    "    (\"Amsterdam\", (52.378894, 4.885084)),\n",
    "    (\"Beijing\", (39.366487, 117.036146)),\n",
    "    (\"Sydney\", (-33.868457, 151.205134))\n",
    "]\n",
    "ofices"
   ]
  },
  {
   "cell_type": "code",
   "execution_count": 9,
   "metadata": {},
   "outputs": [],
   "source": [
    "from sklearn.metrics.pairwise import euclidean_distances"
   ]
  },
  {
   "cell_type": "markdown",
   "metadata": {},
   "source": [
    "Вычислим расстояние от каждого из центров до каждого офиса."
   ]
  },
  {
   "cell_type": "code",
   "execution_count": 10,
   "metadata": {},
   "outputs": [],
   "source": [
    "dist = euclidean_distances(centers, [x[1] for x in ofices])"
   ]
  },
  {
   "cell_type": "markdown",
   "metadata": {},
   "source": [
    "Выведем список 20 ближайших к офисам центров кластеров с указанием соответствующих офисов."
   ]
  },
  {
   "cell_type": "code",
   "execution_count": 64,
   "metadata": {},
   "outputs": [
    {
     "name": "stdout",
     "output_type": "stream",
     "text": [
      "#1: Sydney at [-33.87 151.21] (distance=0.003, cluster size = 215)\n",
      "#2: Amsterdam at [52.37  4.89] (distance=0.01, cluster size = 159)\n",
      "#3: Miami at [ 25.85 -80.31] (distance=0.025, cluster size = 165)\n",
      "#4: London at [51.5  -0.13] (distance=0.052, cluster size = 1185)\n",
      "#5: Los Angeles at [  33.81 -118.14] (distance=0.075, cluster size = 1258)\n",
      "#6: Miami at [ 25.79 -80.22] (distance=0.136, cluster size = 2769)\n",
      "#7: Miami at [ 26.01 -80.21] (distance=0.181, cluster size = 578)\n",
      "#8: Los Angeles at [  33.9  -118.06] (distance=0.194, cluster size = 614)\n",
      "#9: London at [51.48 -0.31] (distance=0.234, cluster size = 36)\n",
      "#10: London at [51.6  -0.32] (distance=0.264, cluster size = 28)\n",
      "#11: Miami at [ 26.14 -80.34] (distance=0.272, cluster size = 99)\n",
      "#12: Los Angeles at [  33.92 -118.41] (distance=0.283, cluster size = 1626)\n",
      "#13: Miami at [ 26.11 -80.16] (distance=0.292, cluster size = 834)\n",
      "#14: Los Angeles at [  33.82 -117.89] (distance=0.302, cluster size = 1834)\n",
      "#15: Los Angeles at [  34.06 -118.27] (distance=0.323, cluster size = 3806)\n",
      "#16: Los Angeles at [  33.68 -117.85] (distance=0.343, cluster size = 2614)\n",
      "#17: Miami at [ 26.2  -80.24] (distance=0.344, cluster size = 295)\n",
      "#18: Los Angeles at [  34.07 -118.02] (distance=0.359, cluster size = 369)\n",
      "#19: Amsterdam at [52.08  5.1 ] (distance=0.364, cluster size = 27)\n",
      "#20: Los Angeles at [  34.01 -117.92] (distance=0.373, cluster size = 470)\n"
     ]
    }
   ],
   "source": [
    "top20 = np.unravel_index(dist.argsort(axis=None)[:20], dist.shape)\n",
    "top20 = list(zip(top20[0], top20[1]))\n",
    "\n",
    "for i, pair in enumerate(top20):\n",
    "    city = ofices[pair[1]][0]\n",
    "    distance = dist[pair[0]][pair[1]]\n",
    "    center_coords = centers[pair[0]]\n",
    "    cluster_size = cluster_sizes[pair[0]]\n",
    "    print(f'#{i + 1}: {city} at {center_coords.round(2)} (distance={round(distance, 3)}, cluster size = {cluster_size})')"
   ]
  },
  {
   "cell_type": "markdown",
   "metadata": {},
   "source": [
    "Видно, что некоторые центры кластеризации расположенны довольно близко друг к другу. Возможно, имеет смысл схлапывать некоторые из них. С другой стороны, это могут быть, например, крупные торговые центры. Тогда в каждом из них может быть резонно разместить баннер, поскольку это обеспечит большой охват.\n",
    "Тем не менее, требуемый центр с минимальнымрасстоянием определяется довольно о"
   ]
  },
  {
   "cell_type": "code",
   "execution_count": 65,
   "metadata": {},
   "outputs": [],
   "source": [
    "top_point = centers[top20[0][0]]"
   ]
  },
  {
   "cell_type": "code",
   "execution_count": 59,
   "metadata": {},
   "outputs": [],
   "source": [
    "with open(\"answer_clasterization.txt\", \"w+\") as file:\n",
    "    file.write(f'{top_point[0]} {top_point[1]}')"
   ]
  },
  {
   "cell_type": "code",
   "execution_count": null,
   "metadata": {},
   "outputs": [],
   "source": []
  }
 ],
 "metadata": {
  "kernelspec": {
   "display_name": "Python 3",
   "language": "python",
   "name": "python3"
  },
  "language_info": {
   "codemirror_mode": {
    "name": "ipython",
    "version": 3
   },
   "file_extension": ".py",
   "mimetype": "text/x-python",
   "name": "python",
   "nbconvert_exporter": "python",
   "pygments_lexer": "ipython3",
   "version": "3.8.5"
  }
 },
 "nbformat": 4,
 "nbformat_minor": 4
}
